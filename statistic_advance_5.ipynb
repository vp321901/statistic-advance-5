{
  "nbformat": 4,
  "nbformat_minor": 0,
  "metadata": {
    "colab": {
      "provenance": []
    },
    "kernelspec": {
      "name": "python3",
      "display_name": "Python 3"
    },
    "language_info": {
      "name": "python"
    }
  },
  "cells": [
    {
      "cell_type": "code",
      "execution_count": 1,
      "metadata": {
        "colab": {
          "base_uri": "https://localhost:8080/",
          "height": 70
        },
        "id": "1kxSk1V6Kz2P",
        "outputId": "2073698d-564c-4126-af02-171c5f95eb9d"
      },
      "outputs": [
        {
          "output_type": "stream",
          "name": "stdout",
          "text": [
            "95% Confidence Interval: (48.210805856282846, 51.789194143717154)\n"
          ]
        },
        {
          "output_type": "execute_result",
          "data": {
            "text/plain": [
              "'Interpretation: The confidence interval provides a range within which the true population mean is expected to lie with 95% certainty.\\n If the 95% confidence interval is (48.21, 51.79), this means we are 95% confident that the true population mean lies between 48.21 and 51.79, based on the sample data.'"
            ],
            "application/vnd.google.colaboratory.intrinsic+json": {
              "type": "string"
            }
          },
          "metadata": {},
          "execution_count": 1
        }
      ],
      "source": [
        "#answer:-1\n",
        "import scipy.stats as stats\n",
        "\n",
        "# Given data\n",
        "mean = 50\n",
        "std_dev = 5\n",
        "n = 30  # Assuming a sample size of 30 for this calculation\n",
        "confidence_level = 0.95\n",
        "\n",
        "# Calculate the critical z-value (for 95% confidence)\n",
        "z_critical = stats.norm.ppf((1 + confidence_level) / 2)\n",
        "\n",
        "# Calculate the margin of error\n",
        "margin_of_error = z_critical * (std_dev / (n ** 0.5))\n",
        "\n",
        "# Calculate the confidence interval\n",
        "lower_bound = mean - margin_of_error\n",
        "upper_bound = mean + margin_of_error\n",
        "\n",
        "print(f\"95% Confidence Interval: ({lower_bound}, {upper_bound})\")\n",
        "\n",
        "\n",
        "\n",
        "\"\"\"Interpretation: The confidence interval provides a range within which the true population mean is expected to lie with 95% certainty.\n",
        " If the 95% confidence interval is (48.21, 51.79), this means we are 95% confident that the true population mean lies between 48.21 and 51.79, based on the sample data.\"\"\""
      ]
    },
    {
      "cell_type": "code",
      "source": [
        "#answer:-2\n",
        "import scipy.stats as stats\n",
        "import numpy as np\n",
        "\n",
        "# Observed counts of M&Ms colors in a sample bag (example)\n",
        "observed_counts = np.array([25, 30, 20, 10, 10, 25])  # Example counts for blue, orange, green, yellow, red, brown\n",
        "\n",
        "# Expected proportions\n",
        "expected_proportions = np.array([0.2, 0.2, 0.2, 0.1, 0.1, 0.2])\n",
        "\n",
        "# Calculate the expected counts based on the total observed M&Ms\n",
        "total_count = np.sum(observed_counts)\n",
        "expected_counts = expected_proportions * total_count\n",
        "\n",
        "# Perform the chi-square goodness of fit test\n",
        "chi_square_stat, p_value = stats.chisquare(f_obs=observed_counts, f_exp=expected_counts)\n",
        "\n",
        "# Significance level\n",
        "alpha = 0.05\n",
        "\n",
        "# Output the results\n",
        "print(f\"Chi-Square Statistic: {chi_square_stat}\")\n",
        "print(f\"P-value: {p_value}\")\n",
        "\n",
        "if p_value < alpha:\n",
        "    print(\"Reject the null hypothesis. The distribution of colors does not match the expected distribution.\")\n",
        "else:\n",
        "    print(\"Fail to reject the null hypothesis. The distribution of colors matches the expected distribution.\")\n"
      ],
      "metadata": {
        "colab": {
          "base_uri": "https://localhost:8080/"
        },
        "id": "POLI9kEzLNQj",
        "outputId": "48d53811-05d4-4bc6-c5a8-e6995c563815"
      },
      "execution_count": 2,
      "outputs": [
        {
          "output_type": "stream",
          "name": "stdout",
          "text": [
            "Chi-Square Statistic: 2.916666666666667\n",
            "P-value: 0.7128316836671243\n",
            "Fail to reject the null hypothesis. The distribution of colors matches the expected distribution.\n"
          ]
        }
      ]
    },
    {
      "cell_type": "code",
      "source": [
        "#answer:-3\n",
        "\n",
        "import scipy.stats as stats\n",
        "import numpy as np\n",
        "\n",
        "# Given contingency table data\n",
        "# Rows: Outcome 1, Outcome 2, Outcome 3\n",
        "# Columns: Group A, Group B\n",
        "data = np.array([[20, 15],\n",
        "                 [10, 25],\n",
        "                 [15, 20]])\n",
        "\n",
        "# Perform chi-square test\n",
        "chi2_stat, p_value, dof, expected = stats.chi2_contingency(data)\n",
        "\n",
        "# Output the results\n",
        "print(f\"Chi-Square Statistic: {chi2_stat}\")\n",
        "print(f\"P-value: {p_value}\")\n",
        "print(f\"Degrees of Freedom: {dof}\")\n",
        "print(f\"Expected Frequencies: \\n{expected}\")\n"
      ],
      "metadata": {
        "colab": {
          "base_uri": "https://localhost:8080/"
        },
        "id": "hhv3_NdXLXT9",
        "outputId": "aec16c47-862b-4480-a65d-c595c4727e42"
      },
      "execution_count": 3,
      "outputs": [
        {
          "output_type": "stream",
          "name": "stdout",
          "text": [
            "Chi-Square Statistic: 5.833333333333334\n",
            "P-value: 0.05411376622282158\n",
            "Degrees of Freedom: 2\n",
            "Expected Frequencies: \n",
            "[[15. 20.]\n",
            " [15. 20.]\n",
            " [15. 20.]]\n"
          ]
        }
      ]
    },
    {
      "cell_type": "code",
      "source": [
        "#answer:-4\n",
        "import numpy as np\n",
        "from statsmodels.stats.proportion import proportion_confint\n",
        "\n",
        "# Given data\n",
        "sample_size = 500\n",
        "smokers = 60\n",
        "confidence_level = 0.95\n",
        "\n",
        "# Calculate proportion of smokers\n",
        "sample_proportion = smokers / sample_size\n",
        "\n",
        "# Calculate the confidence interval using proportion_confint function\n",
        "conf_interval = proportion_confint(smokers, sample_size, alpha=1-confidence_level, method='normal')\n",
        "\n",
        "print(f\"95% Confidence Interval for the proportion of smokers: {conf_interval}\")\n"
      ],
      "metadata": {
        "colab": {
          "base_uri": "https://localhost:8080/"
        },
        "id": "LBUmFNBKMGvL",
        "outputId": "ffffa19d-55db-484c-92bc-f864863ca863"
      },
      "execution_count": 4,
      "outputs": [
        {
          "output_type": "stream",
          "name": "stdout",
          "text": [
            "95% Confidence Interval for the proportion of smokers: (0.09151638887130707, 0.1484836111286929)\n"
          ]
        }
      ]
    },
    {
      "cell_type": "code",
      "source": [
        "#answer:-5\n",
        "import scipy.stats as stats\n",
        "\n",
        "# Given data\n",
        "mean = 75\n",
        "std_dev = 12\n",
        "sample_size = 1000  # You need to know the sample size\n",
        "confidence_level = 0.90\n",
        "\n",
        "# Calculate Z-score for 90% confidence level\n",
        "z_score = stats.norm.ppf(1 - (1 - confidence_level) / 2)\n",
        "\n",
        "# Calculate margin of error\n",
        "margin_of_error = z_score * (std_dev / np.sqrt(sample_size))\n",
        "\n",
        "# Confidence interval\n",
        "conf_interval = (mean - margin_of_error, mean + margin_of_error)\n",
        "\n",
        "print(f\"90% Confidence Interval: {conf_interval}\")\n"
      ],
      "metadata": {
        "colab": {
          "base_uri": "https://localhost:8080/"
        },
        "id": "WWKLfVmpMv9A",
        "outputId": "635ad3c3-a9a2-4bc5-feec-ff2ff1e7f767"
      },
      "execution_count": 5,
      "outputs": [
        {
          "output_type": "stream",
          "name": "stdout",
          "text": [
            "90% Confidence Interval: (74.37582193454934, 75.62417806545066)\n"
          ]
        }
      ]
    },
    {
      "cell_type": "code",
      "source": [
        "#answer:-6\n",
        "\n",
        "import numpy as np\n",
        "import matplotlib.pyplot as plt\n",
        "import scipy.stats as stats\n",
        "\n",
        "# Generate Chi-Square distribution with 10 degrees of freedom\n",
        "df = 10\n",
        "x = np.linspace(0, 30, 500)\n",
        "chi_square_dist = stats.chi2.pdf(x, df)\n",
        "\n",
        "# Plot the chi-square distribution\n",
        "plt.plot(x, chi_square_dist, label='Chi-Square Distribution (df=10)')\n",
        "plt.fill_between(x, 0, chi_square_dist, where=(x >= 15), color='gray', alpha=0.5, label='Chi-Square > 15')\n",
        "\n",
        "# Labeling the plot\n",
        "plt.title('Chi-Square Distribution with 10 Degrees of Freedom')\n",
        "plt.xlabel('Chi-Square Statistic')\n",
        "plt.ylabel('Probability Density')\n",
        "plt.legend()\n",
        "\n",
        "plt.show()\n"
      ],
      "metadata": {
        "colab": {
          "base_uri": "https://localhost:8080/",
          "height": 472
        },
        "id": "RAk1n2kcM21s",
        "outputId": "28564136-38af-4155-9b28-467b38b33167"
      },
      "execution_count": 6,
      "outputs": [
        {
          "output_type": "display_data",
          "data": {
            "text/plain": [
              "<Figure size 640x480 with 1 Axes>"
            ],
            "image/png": "[encoded data removed]"
          },
          "metadata": {}
        }
      ]
    },
    {
      "cell_type": "code",
      "source": [
        "#answer;-7\n",
        "\n",
        "# Given data\n",
        "sample_size = 1000\n",
        "prefer_coke = 520\n",
        "confidence_level = 0.99\n",
        "\n",
        "# Calculate proportion\n",
        "sample_proportion = prefer_coke / sample_size\n",
        "\n",
        "# Calculate confidence interval\n",
        "conf_interval = proportion_confint(prefer_coke, sample_size, alpha=1-confidence_level, method='normal')\n",
        "\n",
        "print(f\"99% Confidence Interval for the proportion who prefer Coke: {conf_interval}\")\n",
        "\n"
      ],
      "metadata": {
        "colab": {
          "base_uri": "https://localhost:8080/"
        },
        "id": "LTTtoctgNAGG",
        "outputId": "d1beab0e-f85c-4c59-eea1-21d9eec3ec75"
      },
      "execution_count": 7,
      "outputs": [
        {
          "output_type": "stream",
          "name": "stdout",
          "text": [
            "99% Confidence Interval for the proportion who prefer Coke: (0.4793051576779699, 0.5606948423220302)\n"
          ]
        }
      ]
    },
    {
      "cell_type": "code",
      "source": [
        "#answer:-8\n",
        "import scipy.stats as stats\n",
        "\n",
        "# Given data\n",
        "observed = [45, 55]  # 45 tails, 55 heads\n",
        "expected = [50, 50]  # For a fair coin\n",
        "\n",
        "# Perform chi-square goodness of fit test\n",
        "chi2_stat, p_value = stats.chisquare(observed, f_exp=expected)\n",
        "\n",
        "print(f\"Chi-Square Statistic: {chi2_stat}\")\n",
        "print(f\"P-value: {p_value}\")\n",
        "\n",
        "# Interpret results\n",
        "alpha = 0.05\n",
        "if p_value < alpha:\n",
        "    print(\"Reject the null hypothesis: The coin is biased.\")\n",
        "else:\n",
        "    print(\"Fail to reject the null hypothesis: The coin is not biased.\")\n"
      ],
      "metadata": {
        "colab": {
          "base_uri": "https://localhost:8080/"
        },
        "id": "boFnk4n-NI7c",
        "outputId": "840f3e1a-baf7-47a5-eedb-31ef9177afdb"
      },
      "execution_count": 8,
      "outputs": [
        {
          "output_type": "stream",
          "name": "stdout",
          "text": [
            "Chi-Square Statistic: 1.0\n",
            "P-value: 0.31731050786291115\n",
            "Fail to reject the null hypothesis: The coin is not biased.\n"
          ]
        }
      ]
    },
    {
      "cell_type": "code",
      "source": [
        "#answer:-9\n",
        "\n",
        "import numpy as np\n",
        "import scipy.stats as stats\n",
        "\n",
        "# Define the observed frequency table\n",
        "observed = np.array([[60, 140],\n",
        "                     [30, 170]])\n",
        "\n",
        "# Perform chi-square test for independence\n",
        "chi2_stat, p_value, dof, expected = stats.chi2_contingency(observed)\n",
        "\n",
        "# Print the results\n",
        "print(f\"Chi-Square Statistic: {chi2_stat}\")\n",
        "print(f\"Degrees of Freedom: {dof}\")\n",
        "print(f\"Expected Frequencies: \\n{expected}\")\n",
        "print(f\"P-value: {p_value}\")\n",
        "\n",
        "# Set significance level\n",
        "alpha = 0.05\n",
        "\n",
        "# Interpret the result\n",
        "if p_value < alpha:\n",
        "    print(\"Reject the null hypothesis: There is a significant association between smoking status and lung cancer diagnosis.\")\n",
        "else:\n",
        "    print(\"Fail to reject the null hypothesis: There is no significant association between smoking status and lung cancer diagnosis.\")\n",
        "\n"
      ],
      "metadata": {
        "colab": {
          "base_uri": "https://localhost:8080/"
        },
        "id": "4CHsuMF0NMEp",
        "outputId": "d5fe6db2-5c37-4153-9e70-6c1e6384f45d"
      },
      "execution_count": 13,
      "outputs": [
        {
          "output_type": "stream",
          "name": "stdout",
          "text": [
            "Chi-Square Statistic: 12.057347670250895\n",
            "Degrees of Freedom: 1\n",
            "Expected Frequencies: \n",
            "[[ 45. 155.]\n",
            " [ 45. 155.]]\n",
            "P-value: 0.0005158863863703744\n",
            "Reject the null hypothesis: There is a significant association between smoking status and lung cancer diagnosis.\n"
          ]
        }
      ]
    },
    {
      "cell_type": "code",
      "source": [
        "#answer:-10\n",
        "import numpy as np\n",
        "import scipy.stats as stats\n",
        "\n",
        "# Define the observed frequency table\n",
        "observed = np.array([[200, 150, 150],\n",
        "                     [225, 175, 100]])\n",
        "\n",
        "# Perform chi-square test for independence\n",
        "chi2_stat, p_value, dof, expected = stats.chi2_contingency(observed)\n",
        "\n",
        "# Print the results\n",
        "print(f\"Chi-Square Statistic: {chi2_stat}\")\n",
        "print(f\"Degrees of Freedom: {dof}\")\n",
        "print(f\"Expected Frequencies: \\n{expected}\")\n",
        "print(f\"P-value: {p_value}\")\n",
        "\n",
        "# Set significance level\n",
        "alpha = 0.01\n",
        "\n",
        "# Interpret the result\n",
        "if p_value < alpha:\n",
        "    print(\"Reject the null hypothesis: There is a significant association between chocolate preference and country of origin.\")\n",
        "else:\n",
        "    print(\"Fail to reject the null hypothesis: There is no significant association between chocolate preference and country of origin.\")\n"
      ],
      "metadata": {
        "colab": {
          "base_uri": "https://localhost:8080/"
        },
        "id": "ZBYZZzVLNnEY",
        "outputId": "6e159487-2d2c-4f8c-8474-63fdb0cf40c1"
      },
      "execution_count": 14,
      "outputs": [
        {
          "output_type": "stream",
          "name": "stdout",
          "text": [
            "Chi-Square Statistic: 13.393665158371041\n",
            "Degrees of Freedom: 2\n",
            "Expected Frequencies: \n",
            "[[212.5 162.5 125. ]\n",
            " [212.5 162.5 125. ]]\n",
            "P-value: 0.0012348168997745918\n",
            "Reject the null hypothesis: There is a significant association between chocolate preference and country of origin.\n"
          ]
        }
      ]
    },
    {
      "cell_type": "code",
      "source": [
        "#answer:-11\n",
        "\n",
        "import scipy.stats as stats\n",
        "import numpy as np\n",
        "\n",
        "# Given data\n",
        "sample_mean = 72\n",
        "population_mean = 70\n",
        "sample_std_dev = 10\n",
        "sample_size = 30\n",
        "alpha = 0.05\n",
        "\n",
        "# Calculate the t-statistic\n",
        "t_statistic = (sample_mean - population_mean) / (sample_std_dev / np.sqrt(sample_size))\n",
        "\n",
        "# Calculate the degrees of freedom\n",
        "df = sample_size - 1\n",
        "\n",
        "# Calculate the p-value for a two-tailed test\n",
        "p_value = 2 * (1 - stats.t.cdf(abs(t_statistic), df))\n",
        "\n",
        "# Print the results\n",
        "print(f\"T-statistic: {t_statistic}\")\n",
        "print(f\"P-value: {p_value}\")\n",
        "\n",
        "# Compare p-value with significance level\n",
        "if p_value < alpha:\n",
        "    print(\"Reject the null hypothesis: The population mean is significantly different from 70.\")\n",
        "else:\n",
        "    print(\"Fail to reject the null hypothesis: The population mean is not significantly different from 70.\")\n"
      ],
      "metadata": {
        "colab": {
          "base_uri": "https://localhost:8080/"
        },
        "id": "12jCQ_PpOlCc",
        "outputId": "965a39bc-471b-4b5d-85da-1c7fd942d134"
      },
      "execution_count": 15,
      "outputs": [
        {
          "output_type": "stream",
          "name": "stdout",
          "text": [
            "T-statistic: 1.0954451150103321\n",
            "P-value: 0.2823362372860698\n",
            "Fail to reject the null hypothesis: The population mean is not significantly different from 70.\n"
          ]
        }
      ]
    },
    {
      "cell_type": "code",
      "source": [],
      "metadata": {
        "id": "fLbLUL_VO0wR"
      },
      "execution_count": null,
      "outputs": []
    }
  ]
}